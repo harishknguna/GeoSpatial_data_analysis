{
 "cells": [
  {
   "cell_type": "markdown",
   "metadata": {},
   "source": [
    "# Pricing : excess of rain cover"
   ]
  },
  {
   "cell_type": "code",
   "execution_count": 1,
   "metadata": {},
   "outputs": [],
   "source": [
    "from pathlib import Path\n",
    "import pandas as pd\n",
    "import numpy as np\n",
    "import xarray as xr\n",
    "from numpy.testing import assert_allclose\n",
    "import matplotlib.pyplot as plt\n",
    "\n",
    "%reload_ext autoreload\n",
    "%autoreload 2"
   ]
  },
  {
   "cell_type": "markdown",
   "metadata": {},
   "source": [
    "# Context"
   ]
  },
  {
   "cell_type": "markdown",
   "metadata": {},
   "source": [
    "A client is looking to be covered against excess of rain.\n",
    "\n",
    "You will first manipulate rasters and then use historical data to understand the risk."
   ]
  },
  {
   "cell_type": "markdown",
   "metadata": {},
   "source": [
    "# 1. Parameters"
   ]
  },
  {
   "cell_type": "code",
   "execution_count": 2,
   "metadata": {},
   "outputs": [],
   "source": [
    "DATA_PATH = Path(\"data\")\n",
    "RASTERS_PATH = DATA_PATH / \"rasters\""
   ]
  },
  {
   "cell_type": "markdown",
   "metadata": {},
   "source": [
    "# 2. Data"
   ]
  },
  {
   "cell_type": "markdown",
   "metadata": {},
   "source": [
    "## 2.1 Load data"
   ]
  },
  {
   "cell_type": "code",
   "execution_count": 3,
   "metadata": {},
   "outputs": [],
   "source": [
    "vegetation_path = RASTERS_PATH / \"vegetation.nc\"\n",
    "precipitation_path = RASTERS_PATH / \"precipitation.nc\""
   ]
  },
  {
   "cell_type": "code",
   "execution_count": 4,
   "metadata": {},
   "outputs": [],
   "source": [
    "vegetation_xr = xr.load_dataset(vegetation_path)\n",
    "precipitation_xr = xr.load_dataset(precipitation_path)"
   ]
  },
  {
   "cell_type": "markdown",
   "metadata": {},
   "source": [
    "## 2.2 Visualize data"
   ]
  },
  {
   "cell_type": "markdown",
   "metadata": {},
   "source": [
    "Let's look at the coordinates values:"
   ]
  },
  {
   "cell_type": "code",
   "execution_count": 5,
   "metadata": {},
   "outputs": [
    {
     "name": "stdout",
     "output_type": "stream",
     "text": [
      "[-4755784.4062485 -4756034.4062485]\n"
     ]
    }
   ],
   "source": [
    "print(vegetation_xr.latitude.values[:2])"
   ]
  },
  {
   "cell_type": "markdown",
   "metadata": {},
   "source": [
    "The coordinate reference system (crs) here is named an equal-area crs which means that the areas are preserved when projecting the earth to a plane. The unit of the coordinates is **meters**. See more info [there](https://en.wikipedia.org/wiki/Spatial_reference_system)."
   ]
  },
  {
   "cell_type": "code",
   "execution_count": 6,
   "metadata": {},
   "outputs": [
    {
     "data": {
      "text/html": [
       "<div><svg style=\"position: absolute; width: 0; height: 0; overflow: hidden\">\n",
       "<defs>\n",
       "<symbol id=\"icon-database\" viewBox=\"0 0 32 32\">\n",
       "<path d=\"M16 0c-8.837 0-16 2.239-16 5v4c0 2.761 7.163 5 16 5s16-2.239 16-5v-4c0-2.761-7.163-5-16-5z\"></path>\n",
       "<path d=\"M16 17c-8.837 0-16-2.239-16-5v6c0 2.761 7.163 5 16 5s16-2.239 16-5v-6c0 2.761-7.163 5-16 5z\"></path>\n",
       "<path d=\"M16 26c-8.837 0-16-2.239-16-5v6c0 2.761 7.163 5 16 5s16-2.239 16-5v-6c0 2.761-7.163 5-16 5z\"></path>\n",
       "</symbol>\n",
       "<symbol id=\"icon-file-text2\" viewBox=\"0 0 32 32\">\n",
       "<path d=\"M28.681 7.159c-0.694-0.947-1.662-2.053-2.724-3.116s-2.169-2.030-3.116-2.724c-1.612-1.182-2.393-1.319-2.841-1.319h-15.5c-1.378 0-2.5 1.121-2.5 2.5v27c0 1.378 1.122 2.5 2.5 2.5h23c1.378 0 2.5-1.122 2.5-2.5v-19.5c0-0.448-0.137-1.23-1.319-2.841zM24.543 5.457c0.959 0.959 1.712 1.825 2.268 2.543h-4.811v-4.811c0.718 0.556 1.584 1.309 2.543 2.268zM28 29.5c0 0.271-0.229 0.5-0.5 0.5h-23c-0.271 0-0.5-0.229-0.5-0.5v-27c0-0.271 0.229-0.5 0.5-0.5 0 0 15.499-0 15.5 0v7c0 0.552 0.448 1 1 1h7v19.5z\"></path>\n",
       "<path d=\"M23 26h-14c-0.552 0-1-0.448-1-1s0.448-1 1-1h14c0.552 0 1 0.448 1 1s-0.448 1-1 1z\"></path>\n",
       "<path d=\"M23 22h-14c-0.552 0-1-0.448-1-1s0.448-1 1-1h14c0.552 0 1 0.448 1 1s-0.448 1-1 1z\"></path>\n",
       "<path d=\"M23 18h-14c-0.552 0-1-0.448-1-1s0.448-1 1-1h14c0.552 0 1 0.448 1 1s-0.448 1-1 1z\"></path>\n",
       "</symbol>\n",
       "</defs>\n",
       "</svg>\n",
       "<style>/* CSS stylesheet for displaying xarray objects in jupyterlab.\n",
       " *\n",
       " */\n",
       "\n",
       ":root {\n",
       "  --xr-font-color0: var(--jp-content-font-color0, rgba(0, 0, 0, 1));\n",
       "  --xr-font-color2: var(--jp-content-font-color2, rgba(0, 0, 0, 0.54));\n",
       "  --xr-font-color3: var(--jp-content-font-color3, rgba(0, 0, 0, 0.38));\n",
       "  --xr-border-color: var(--jp-border-color2, #e0e0e0);\n",
       "  --xr-disabled-color: var(--jp-layout-color3, #bdbdbd);\n",
       "  --xr-background-color: var(--jp-layout-color0, white);\n",
       "  --xr-background-color-row-even: var(--jp-layout-color1, white);\n",
       "  --xr-background-color-row-odd: var(--jp-layout-color2, #eeeeee);\n",
       "}\n",
       "\n",
       "html[theme=dark],\n",
       "html[data-theme=dark],\n",
       "body[data-theme=dark],\n",
       "body.vscode-dark {\n",
       "  --xr-font-color0: rgba(255, 255, 255, 1);\n",
       "  --xr-font-color2: rgba(255, 255, 255, 0.54);\n",
       "  --xr-font-color3: rgba(255, 255, 255, 0.38);\n",
       "  --xr-border-color: #1F1F1F;\n",
       "  --xr-disabled-color: #515151;\n",
       "  --xr-background-color: #111111;\n",
       "  --xr-background-color-row-even: #111111;\n",
       "  --xr-background-color-row-odd: #313131;\n",
       "}\n",
       "\n",
       ".xr-wrap {\n",
       "  display: block !important;\n",
       "  min-width: 300px;\n",
       "  max-width: 700px;\n",
       "}\n",
       "\n",
       ".xr-text-repr-fallback {\n",
       "  /* fallback to plain text repr when CSS is not injected (untrusted notebook) */\n",
       "  display: none;\n",
       "}\n",
       "\n",
       ".xr-header {\n",
       "  padding-top: 6px;\n",
       "  padding-bottom: 6px;\n",
       "  margin-bottom: 4px;\n",
       "  border-bottom: solid 1px var(--xr-border-color);\n",
       "}\n",
       "\n",
       ".xr-header > div,\n",
       ".xr-header > ul {\n",
       "  display: inline;\n",
       "  margin-top: 0;\n",
       "  margin-bottom: 0;\n",
       "}\n",
       "\n",
       ".xr-obj-type,\n",
       ".xr-array-name {\n",
       "  margin-left: 2px;\n",
       "  margin-right: 10px;\n",
       "}\n",
       "\n",
       ".xr-obj-type {\n",
       "  color: var(--xr-font-color2);\n",
       "}\n",
       "\n",
       ".xr-sections {\n",
       "  padding-left: 0 !important;\n",
       "  display: grid;\n",
       "  grid-template-columns: 150px auto auto 1fr 20px 20px;\n",
       "}\n",
       "\n",
       ".xr-section-item {\n",
       "  display: contents;\n",
       "}\n",
       "\n",
       ".xr-section-item input {\n",
       "  display: none;\n",
       "}\n",
       "\n",
       ".xr-section-item input + label {\n",
       "  color: var(--xr-disabled-color);\n",
       "}\n",
       "\n",
       ".xr-section-item input:enabled + label {\n",
       "  cursor: pointer;\n",
       "  color: var(--xr-font-color2);\n",
       "}\n",
       "\n",
       ".xr-section-item input:enabled + label:hover {\n",
       "  color: var(--xr-font-color0);\n",
       "}\n",
       "\n",
       ".xr-section-summary {\n",
       "  grid-column: 1;\n",
       "  color: var(--xr-font-color2);\n",
       "  font-weight: 500;\n",
       "}\n",
       "\n",
       ".xr-section-summary > span {\n",
       "  display: inline-block;\n",
       "  padding-left: 0.5em;\n",
       "}\n",
       "\n",
       ".xr-section-summary-in:disabled + label {\n",
       "  color: var(--xr-font-color2);\n",
       "}\n",
       "\n",
       ".xr-section-summary-in + label:before {\n",
       "  display: inline-block;\n",
       "  content: '►';\n",
       "  font-size: 11px;\n",
       "  width: 15px;\n",
       "  text-align: center;\n",
       "}\n",
       "\n",
       ".xr-section-summary-in:disabled + label:before {\n",
       "  color: var(--xr-disabled-color);\n",
       "}\n",
       "\n",
       ".xr-section-summary-in:checked + label:before {\n",
       "  content: '▼';\n",
       "}\n",
       "\n",
       ".xr-section-summary-in:checked + label > span {\n",
       "  display: none;\n",
       "}\n",
       "\n",
       ".xr-section-summary,\n",
       ".xr-section-inline-details {\n",
       "  padding-top: 4px;\n",
       "  padding-bottom: 4px;\n",
       "}\n",
       "\n",
       ".xr-section-inline-details {\n",
       "  grid-column: 2 / -1;\n",
       "}\n",
       "\n",
       ".xr-section-details {\n",
       "  display: none;\n",
       "  grid-column: 1 / -1;\n",
       "  margin-bottom: 5px;\n",
       "}\n",
       "\n",
       ".xr-section-summary-in:checked ~ .xr-section-details {\n",
       "  display: contents;\n",
       "}\n",
       "\n",
       ".xr-array-wrap {\n",
       "  grid-column: 1 / -1;\n",
       "  display: grid;\n",
       "  grid-template-columns: 20px auto;\n",
       "}\n",
       "\n",
       ".xr-array-wrap > label {\n",
       "  grid-column: 1;\n",
       "  vertical-align: top;\n",
       "}\n",
       "\n",
       ".xr-preview {\n",
       "  color: var(--xr-font-color3);\n",
       "}\n",
       "\n",
       ".xr-array-preview,\n",
       ".xr-array-data {\n",
       "  padding: 0 5px !important;\n",
       "  grid-column: 2;\n",
       "}\n",
       "\n",
       ".xr-array-data,\n",
       ".xr-array-in:checked ~ .xr-array-preview {\n",
       "  display: none;\n",
       "}\n",
       "\n",
       ".xr-array-in:checked ~ .xr-array-data,\n",
       ".xr-array-preview {\n",
       "  display: inline-block;\n",
       "}\n",
       "\n",
       ".xr-dim-list {\n",
       "  display: inline-block !important;\n",
       "  list-style: none;\n",
       "  padding: 0 !important;\n",
       "  margin: 0;\n",
       "}\n",
       "\n",
       ".xr-dim-list li {\n",
       "  display: inline-block;\n",
       "  padding: 0;\n",
       "  margin: 0;\n",
       "}\n",
       "\n",
       ".xr-dim-list:before {\n",
       "  content: '(';\n",
       "}\n",
       "\n",
       ".xr-dim-list:after {\n",
       "  content: ')';\n",
       "}\n",
       "\n",
       ".xr-dim-list li:not(:last-child):after {\n",
       "  content: ',';\n",
       "  padding-right: 5px;\n",
       "}\n",
       "\n",
       ".xr-has-index {\n",
       "  font-weight: bold;\n",
       "}\n",
       "\n",
       ".xr-var-list,\n",
       ".xr-var-item {\n",
       "  display: contents;\n",
       "}\n",
       "\n",
       ".xr-var-item > div,\n",
       ".xr-var-item label,\n",
       ".xr-var-item > .xr-var-name span {\n",
       "  background-color: var(--xr-background-color-row-even);\n",
       "  margin-bottom: 0;\n",
       "}\n",
       "\n",
       ".xr-var-item > .xr-var-name:hover span {\n",
       "  padding-right: 5px;\n",
       "}\n",
       "\n",
       ".xr-var-list > li:nth-child(odd) > div,\n",
       ".xr-var-list > li:nth-child(odd) > label,\n",
       ".xr-var-list > li:nth-child(odd) > .xr-var-name span {\n",
       "  background-color: var(--xr-background-color-row-odd);\n",
       "}\n",
       "\n",
       ".xr-var-name {\n",
       "  grid-column: 1;\n",
       "}\n",
       "\n",
       ".xr-var-dims {\n",
       "  grid-column: 2;\n",
       "}\n",
       "\n",
       ".xr-var-dtype {\n",
       "  grid-column: 3;\n",
       "  text-align: right;\n",
       "  color: var(--xr-font-color2);\n",
       "}\n",
       "\n",
       ".xr-var-preview {\n",
       "  grid-column: 4;\n",
       "}\n",
       "\n",
       ".xr-index-preview {\n",
       "  grid-column: 2 / 5;\n",
       "  color: var(--xr-font-color2);\n",
       "}\n",
       "\n",
       ".xr-var-name,\n",
       ".xr-var-dims,\n",
       ".xr-var-dtype,\n",
       ".xr-preview,\n",
       ".xr-attrs dt {\n",
       "  white-space: nowrap;\n",
       "  overflow: hidden;\n",
       "  text-overflow: ellipsis;\n",
       "  padding-right: 10px;\n",
       "}\n",
       "\n",
       ".xr-var-name:hover,\n",
       ".xr-var-dims:hover,\n",
       ".xr-var-dtype:hover,\n",
       ".xr-attrs dt:hover {\n",
       "  overflow: visible;\n",
       "  width: auto;\n",
       "  z-index: 1;\n",
       "}\n",
       "\n",
       ".xr-var-attrs,\n",
       ".xr-var-data,\n",
       ".xr-index-data {\n",
       "  display: none;\n",
       "  background-color: var(--xr-background-color) !important;\n",
       "  padding-bottom: 5px !important;\n",
       "}\n",
       "\n",
       ".xr-var-attrs-in:checked ~ .xr-var-attrs,\n",
       ".xr-var-data-in:checked ~ .xr-var-data,\n",
       ".xr-index-data-in:checked ~ .xr-index-data {\n",
       "  display: block;\n",
       "}\n",
       "\n",
       ".xr-var-data > table {\n",
       "  float: right;\n",
       "}\n",
       "\n",
       ".xr-var-name span,\n",
       ".xr-var-data,\n",
       ".xr-index-name div,\n",
       ".xr-index-data,\n",
       ".xr-attrs {\n",
       "  padding-left: 25px !important;\n",
       "}\n",
       "\n",
       ".xr-attrs,\n",
       ".xr-var-attrs,\n",
       ".xr-var-data,\n",
       ".xr-index-data {\n",
       "  grid-column: 1 / -1;\n",
       "}\n",
       "\n",
       "dl.xr-attrs {\n",
       "  padding: 0;\n",
       "  margin: 0;\n",
       "  display: grid;\n",
       "  grid-template-columns: 125px auto;\n",
       "}\n",
       "\n",
       ".xr-attrs dt,\n",
       ".xr-attrs dd {\n",
       "  padding: 0;\n",
       "  margin: 0;\n",
       "  float: left;\n",
       "  padding-right: 10px;\n",
       "  width: auto;\n",
       "}\n",
       "\n",
       ".xr-attrs dt {\n",
       "  font-weight: normal;\n",
       "  grid-column: 1;\n",
       "}\n",
       "\n",
       ".xr-attrs dt:hover span {\n",
       "  display: inline-block;\n",
       "  background: var(--xr-background-color);\n",
       "  padding-right: 10px;\n",
       "}\n",
       "\n",
       ".xr-attrs dd {\n",
       "  grid-column: 2;\n",
       "  white-space: pre-wrap;\n",
       "  word-break: break-all;\n",
       "}\n",
       "\n",
       ".xr-icon-database,\n",
       ".xr-icon-file-text2,\n",
       ".xr-no-icon {\n",
       "  display: inline-block;\n",
       "  vertical-align: middle;\n",
       "  width: 1em;\n",
       "  height: 1.5em !important;\n",
       "  stroke-width: 0;\n",
       "  stroke: currentColor;\n",
       "  fill: currentColor;\n",
       "}\n",
       "</style><pre class='xr-text-repr-fallback'>&lt;xarray.Dataset&gt; Size: 244MB\n",
       "Dimensions:        (longitude: 48, latitude: 48, time: 26433)\n",
       "Coordinates:\n",
       "    spatial_ref    int64 8B 0\n",
       "  * longitude      (longitude) float64 384B 1.275e+06 1.276e+06 ... 1.28e+06\n",
       "  * latitude       (latitude) float64 384B -4.756e+06 -4.756e+06 ... -4.76e+06\n",
       "  * time           (time) datetime64[ns] 211kB 1950-01-01 ... 2022-05-15\n",
       "Data variables:\n",
       "    precipitation  (latitude, longitude, time) float32 244MB 0.0 0.0 ... 0.0 0.0</pre><div class='xr-wrap' style='display:none'><div class='xr-header'><div class='xr-obj-type'>xarray.Dataset</div></div><ul class='xr-sections'><li class='xr-section-item'><input id='section-001c5cac-c17c-492a-a35c-696274da619b' class='xr-section-summary-in' type='checkbox' disabled ><label for='section-001c5cac-c17c-492a-a35c-696274da619b' class='xr-section-summary'  title='Expand/collapse section'>Dimensions:</label><div class='xr-section-inline-details'><ul class='xr-dim-list'><li><span class='xr-has-index'>longitude</span>: 48</li><li><span class='xr-has-index'>latitude</span>: 48</li><li><span class='xr-has-index'>time</span>: 26433</li></ul></div><div class='xr-section-details'></div></li><li class='xr-section-item'><input id='section-03aadafb-7344-470a-a144-7cb2a0a15b7d' class='xr-section-summary-in' type='checkbox'  checked><label for='section-03aadafb-7344-470a-a144-7cb2a0a15b7d' class='xr-section-summary' >Coordinates: <span>(4)</span></label><div class='xr-section-inline-details'></div><div class='xr-section-details'><ul class='xr-var-list'><li class='xr-var-item'><div class='xr-var-name'><span>spatial_ref</span></div><div class='xr-var-dims'>()</div><div class='xr-var-dtype'>int64</div><div class='xr-var-preview xr-preview'>0</div><input id='attrs-33167468-49f4-47ac-8f58-5de74a43d221' class='xr-var-attrs-in' type='checkbox' disabled><label for='attrs-33167468-49f4-47ac-8f58-5de74a43d221' title='Show/Hide attributes'><svg class='icon xr-icon-file-text2'><use xlink:href='#icon-file-text2'></use></svg></label><input id='data-abc5d418-c3c8-4b95-91cd-0d931c5cb3a5' class='xr-var-data-in' type='checkbox'><label for='data-abc5d418-c3c8-4b95-91cd-0d931c5cb3a5' title='Show/Hide data repr'><svg class='icon xr-icon-database'><use xlink:href='#icon-database'></use></svg></label><div class='xr-var-attrs'><dl class='xr-attrs'></dl></div><div class='xr-var-data'><pre>array(0)</pre></div></li><li class='xr-var-item'><div class='xr-var-name'><span class='xr-has-index'>longitude</span></div><div class='xr-var-dims'>(longitude)</div><div class='xr-var-dtype'>float64</div><div class='xr-var-preview xr-preview'>1.275e+06 1.276e+06 ... 1.28e+06</div><input id='attrs-6cb79f78-66a8-491a-a7bb-cb4d1cb84390' class='xr-var-attrs-in' type='checkbox' disabled><label for='attrs-6cb79f78-66a8-491a-a7bb-cb4d1cb84390' title='Show/Hide attributes'><svg class='icon xr-icon-file-text2'><use xlink:href='#icon-file-text2'></use></svg></label><input id='data-da1ea43a-3dcb-46b3-8c23-63f1740a67f1' class='xr-var-data-in' type='checkbox'><label for='data-da1ea43a-3dcb-46b3-8c23-63f1740a67f1' title='Show/Hide data repr'><svg class='icon xr-icon-database'><use xlink:href='#icon-database'></use></svg></label><div class='xr-var-attrs'><dl class='xr-attrs'></dl></div><div class='xr-var-data'><pre>array([1275453.788973, 1275553.488371, 1275653.18777 , 1275752.887169,\n",
       "       1275852.586568, 1275952.285967, 1276051.985365, 1276151.684764,\n",
       "       1276251.384163, 1276351.083562, 1276450.782961, 1276550.482359,\n",
       "       1276650.181758, 1276749.881157, 1276849.580556, 1276949.279955,\n",
       "       1277048.979353, 1277148.678752, 1277248.378151, 1277348.07755 ,\n",
       "       1277447.776949, 1277547.476347, 1277647.175746, 1277746.875145,\n",
       "       1277846.574544, 1277946.273943, 1278045.973341, 1278145.67274 ,\n",
       "       1278245.372139, 1278345.071538, 1278444.770937, 1278544.470335,\n",
       "       1278644.169734, 1278743.869133, 1278843.568532, 1278943.267931,\n",
       "       1279042.967329, 1279142.666728, 1279242.366127, 1279342.065526,\n",
       "       1279441.764925, 1279541.464323, 1279641.163722, 1279740.863121,\n",
       "       1279840.56252 , 1279940.261919, 1280039.961317, 1280139.660716])</pre></div></li><li class='xr-var-item'><div class='xr-var-name'><span class='xr-has-index'>latitude</span></div><div class='xr-var-dims'>(latitude)</div><div class='xr-var-dtype'>float64</div><div class='xr-var-preview xr-preview'>-4.756e+06 -4.756e+06 ... -4.76e+06</div><input id='attrs-dc2947f0-78ed-419f-92d7-2ae4b8937b03' class='xr-var-attrs-in' type='checkbox' disabled><label for='attrs-dc2947f0-78ed-419f-92d7-2ae4b8937b03' title='Show/Hide attributes'><svg class='icon xr-icon-file-text2'><use xlink:href='#icon-file-text2'></use></svg></label><input id='data-413ce2ce-77c5-410b-bf5a-49a743d0be6d' class='xr-var-data-in' type='checkbox'><label for='data-413ce2ce-77c5-410b-bf5a-49a743d0be6d' title='Show/Hide data repr'><svg class='icon xr-icon-database'><use xlink:href='#icon-database'></use></svg></label><div class='xr-var-attrs'><dl class='xr-attrs'></dl></div><div class='xr-var-data'><pre>array([-4755808.955347, -4755908.654745, -4756008.354144, -4756108.053543,\n",
       "       -4756207.752942, -4756307.452341, -4756407.151739, -4756506.851138,\n",
       "       -4756606.550537, -4756706.249936, -4756805.949335, -4756905.648733,\n",
       "       -4757005.348132, -4757105.047531, -4757204.74693 , -4757304.446329,\n",
       "       -4757404.145727, -4757503.845126, -4757603.544525, -4757703.243924,\n",
       "       -4757802.943323, -4757902.642721, -4758002.34212 , -4758102.041519,\n",
       "       -4758201.740918, -4758301.440317, -4758401.139715, -4758500.839114,\n",
       "       -4758600.538513, -4758700.237912, -4758799.937311, -4758899.636709,\n",
       "       -4758999.336108, -4759099.035507, -4759198.734906, -4759298.434305,\n",
       "       -4759398.133703, -4759497.833102, -4759597.532501, -4759697.2319  ,\n",
       "       -4759796.931299, -4759896.630697, -4759996.330096, -4760096.029495,\n",
       "       -4760195.728894, -4760295.428293, -4760395.127691, -4760494.82709 ])</pre></div></li><li class='xr-var-item'><div class='xr-var-name'><span class='xr-has-index'>time</span></div><div class='xr-var-dims'>(time)</div><div class='xr-var-dtype'>datetime64[ns]</div><div class='xr-var-preview xr-preview'>1950-01-01 ... 2022-05-15</div><input id='attrs-fcce016e-9d76-45a5-bdc8-7130bd1a8c6b' class='xr-var-attrs-in' type='checkbox' disabled><label for='attrs-fcce016e-9d76-45a5-bdc8-7130bd1a8c6b' title='Show/Hide attributes'><svg class='icon xr-icon-file-text2'><use xlink:href='#icon-file-text2'></use></svg></label><input id='data-ed0de16e-e0da-499a-99b7-2321b40e58f5' class='xr-var-data-in' type='checkbox'><label for='data-ed0de16e-e0da-499a-99b7-2321b40e58f5' title='Show/Hide data repr'><svg class='icon xr-icon-database'><use xlink:href='#icon-database'></use></svg></label><div class='xr-var-attrs'><dl class='xr-attrs'></dl></div><div class='xr-var-data'><pre>array([&#x27;1950-01-01T00:00:00.000000000&#x27;, &#x27;1950-01-02T00:00:00.000000000&#x27;,\n",
       "       &#x27;1950-01-03T00:00:00.000000000&#x27;, ..., &#x27;2022-05-13T00:00:00.000000000&#x27;,\n",
       "       &#x27;2022-05-14T00:00:00.000000000&#x27;, &#x27;2022-05-15T00:00:00.000000000&#x27;],\n",
       "      dtype=&#x27;datetime64[ns]&#x27;)</pre></div></li></ul></div></li><li class='xr-section-item'><input id='section-7ece13aa-75c1-4822-8b2c-291da2aceaa7' class='xr-section-summary-in' type='checkbox'  checked><label for='section-7ece13aa-75c1-4822-8b2c-291da2aceaa7' class='xr-section-summary' >Data variables: <span>(1)</span></label><div class='xr-section-inline-details'></div><div class='xr-section-details'><ul class='xr-var-list'><li class='xr-var-item'><div class='xr-var-name'><span>precipitation</span></div><div class='xr-var-dims'>(latitude, longitude, time)</div><div class='xr-var-dtype'>float32</div><div class='xr-var-preview xr-preview'>0.0 0.0 0.0 0.0 ... 24.8 0.0 0.0</div><input id='attrs-346240fd-420f-4866-9199-2d4a6b1ad908' class='xr-var-attrs-in' type='checkbox' ><label for='attrs-346240fd-420f-4866-9199-2d4a6b1ad908' title='Show/Hide attributes'><svg class='icon xr-icon-file-text2'><use xlink:href='#icon-file-text2'></use></svg></label><input id='data-2d3bc40c-dd49-4117-b886-9cfb5d088d2b' class='xr-var-data-in' type='checkbox'><label for='data-2d3bc40c-dd49-4117-b886-9cfb5d088d2b' title='Show/Hide data repr'><svg class='icon xr-icon-database'><use xlink:href='#icon-database'></use></svg></label><div class='xr-var-attrs'><dl class='xr-attrs'><dt><span>units :</span></dt><dd>mm</dd></dl></div><div class='xr-var-data'><pre>array([[[ 0. ,  0. ,  0. , ...,  0. ,  0. ,  0. ],\n",
       "        [ 0. ,  0. ,  0. , ...,  0. ,  0. ,  0. ],\n",
       "        [ 0. ,  0. ,  0. , ...,  0. ,  0. ,  0. ],\n",
       "        ...,\n",
       "        [ 0. ,  0. ,  0. , ...,  0. ,  0. ,  0. ],\n",
       "        [ 0. ,  0. ,  0. , ...,  0. ,  0. ,  0. ],\n",
       "        [ 0. ,  0. ,  0. , ...,  0. ,  0. ,  0. ]],\n",
       "\n",
       "       [[ 0. ,  0. ,  0. , ...,  0. ,  0. ,  0. ],\n",
       "        [ 0. ,  0. ,  0. , ...,  0. ,  0. ,  0. ],\n",
       "        [ 0. ,  0. ,  0. , ...,  0. ,  0. ,  0. ],\n",
       "        ...,\n",
       "        [ 0. ,  0. ,  0. , ...,  0. ,  0. ,  0. ],\n",
       "        [ 0. ,  0. ,  0. , ...,  0. ,  0. ,  0. ],\n",
       "        [ 0. ,  0. ,  0. , ...,  0. ,  0. ,  0. ]],\n",
       "\n",
       "       [[ 0. ,  0. ,  5.9, ..., 24.8,  0. ,  0. ],\n",
       "        [ 0. ,  0. ,  5.9, ..., 24.8,  0. ,  0. ],\n",
       "        [ 0. ,  0. ,  5.9, ..., 24.8,  0. ,  0. ],\n",
       "        ...,\n",
       "...\n",
       "        ...,\n",
       "        [ 0. ,  0. ,  5.9, ..., 24.8,  0. ,  0. ],\n",
       "        [ 0. ,  0. ,  5.9, ..., 24.8,  0. ,  0. ],\n",
       "        [ 0. ,  0. ,  0. , ...,  0. ,  0. ,  0. ]],\n",
       "\n",
       "       [[ 0. ,  0. ,  5.9, ..., 24.8,  0. ,  0. ],\n",
       "        [ 0. ,  0. ,  5.9, ..., 24.8,  0. ,  0. ],\n",
       "        [ 0. ,  0. ,  5.9, ..., 24.8,  0. ,  0. ],\n",
       "        ...,\n",
       "        [ 0. ,  0. ,  5.9, ..., 24.8,  0. ,  0. ],\n",
       "        [ 0. ,  0. ,  5.9, ..., 24.8,  0. ,  0. ],\n",
       "        [ 0. ,  0. ,  0. , ...,  0. ,  0. ,  0. ]],\n",
       "\n",
       "       [[ 0. ,  0. ,  5.9, ..., 24.8,  0. ,  0. ],\n",
       "        [ 0. ,  0. ,  5.9, ..., 24.8,  0. ,  0. ],\n",
       "        [ 0. ,  0. ,  5.9, ..., 24.8,  0. ,  0. ],\n",
       "        ...,\n",
       "        [ 0. ,  0. ,  5.9, ..., 24.8,  0. ,  0. ],\n",
       "        [ 0. ,  0. ,  5.9, ..., 24.8,  0. ,  0. ],\n",
       "        [ 0. ,  0. ,  5.9, ..., 24.8,  0. ,  0. ]]], dtype=float32)</pre></div></li></ul></div></li><li class='xr-section-item'><input id='section-8ca31dfc-3abe-4e6b-9ab0-efa2d8be4f01' class='xr-section-summary-in' type='checkbox'  ><label for='section-8ca31dfc-3abe-4e6b-9ab0-efa2d8be4f01' class='xr-section-summary' >Indexes: <span>(3)</span></label><div class='xr-section-inline-details'></div><div class='xr-section-details'><ul class='xr-var-list'><li class='xr-var-item'><div class='xr-index-name'><div>longitude</div></div><div class='xr-index-preview'>PandasIndex</div><div></div><input id='index-c317db70-ef6c-4025-926e-4be36047d780' class='xr-index-data-in' type='checkbox'/><label for='index-c317db70-ef6c-4025-926e-4be36047d780' title='Show/Hide index repr'><svg class='icon xr-icon-database'><use xlink:href='#icon-database'></use></svg></label><div class='xr-index-data'><pre>PandasIndex(Index([ 1275453.788972701, 1275553.4883714984, 1275653.1877702961,\n",
       "       1275752.8871690936, 1275852.5865678913, 1275952.2859666888,\n",
       "       1276051.9853654865, 1276151.6847642842, 1276251.3841630816,\n",
       "       1276351.0835618793, 1276450.7829606768, 1276550.4823594745,\n",
       "        1276650.181758272, 1276749.8811570697, 1276849.5805558672,\n",
       "       1276949.2799546649, 1277048.9793534623,   1277148.67875226,\n",
       "       1277248.3781510575, 1277348.0775498552, 1277447.7769486527,\n",
       "       1277547.4763474504,  1277647.175746248, 1277746.8751450456,\n",
       "       1277846.5745438433, 1277946.2739426407, 1278045.9733414385,\n",
       "        1278145.672740236, 1278245.3721390336,  1278345.071537831,\n",
       "       1278444.7709366288, 1278544.4703354263,  1278644.169734224,\n",
       "       1278743.8691330214, 1278843.5685318192, 1278943.2679306166,\n",
       "       1279042.9673294143,  1279142.666728212, 1279242.3661270095,\n",
       "       1279342.0655258072, 1279441.7649246047, 1279541.4643234024,\n",
       "       1279641.1637221999, 1279740.8631209976,  1279840.562519795,\n",
       "       1279940.2619185927, 1280039.9613173902,  1280139.660716188],\n",
       "      dtype=&#x27;float64&#x27;, name=&#x27;longitude&#x27;))</pre></div></li><li class='xr-var-item'><div class='xr-index-name'><div>latitude</div></div><div class='xr-index-preview'>PandasIndex</div><div></div><input id='index-ca96397f-b2c3-4884-ad74-80ca8bdb75df' class='xr-index-data-in' type='checkbox'/><label for='index-ca96397f-b2c3-4884-ad74-80ca8bdb75df' title='Show/Hide index repr'><svg class='icon xr-icon-database'><use xlink:href='#icon-database'></use></svg></label><div class='xr-index-data'><pre>PandasIndex(Index([ -4755808.955346698,  -4755908.654745496,  -4756008.354144293,\n",
       "        -4756108.053543091,  -4756207.752941888,  -4756307.452340686,\n",
       "        -4756407.151739484,  -4756506.851138281,  -4756606.550537079,\n",
       "        -4756706.249935877,  -4756805.949334674, -4756905.6487334715,\n",
       "        -4757005.348132269,  -4757105.047531066,  -4757204.746929864,\n",
       "        -4757304.446328661,  -4757404.145727459,  -4757503.845126257,\n",
       "        -4757603.544525054,  -4757703.243923852,   -4757802.94332265,\n",
       "        -4757902.642721447,  -4758002.342120245,  -4758102.041519043,\n",
       "         -4758201.74091784,  -4758301.440316638,  -4758401.139715435,\n",
       "        -4758500.839114233,  -4758600.538513031,  -4758700.237911828,\n",
       "        -4758799.937310626,  -4758899.636709424,  -4758999.336108221,\n",
       "        -4759099.035507019,  -4759198.734905816,  -4759298.434304614,\n",
       "        -4759398.133703412,  -4759497.833102209, -4759597.5325010065,\n",
       "        -4759697.231899804,  -4759796.931298601,  -4759896.630697399,\n",
       "        -4759996.330096197,  -4760096.029494994,  -4760195.728893792,\n",
       "        -4760295.428292589,  -4760395.127691387,  -4760494.827090185],\n",
       "      dtype=&#x27;float64&#x27;, name=&#x27;latitude&#x27;))</pre></div></li><li class='xr-var-item'><div class='xr-index-name'><div>time</div></div><div class='xr-index-preview'>PandasIndex</div><div></div><input id='index-92ff765d-d764-4b7c-a95e-dab94943c89f' class='xr-index-data-in' type='checkbox'/><label for='index-92ff765d-d764-4b7c-a95e-dab94943c89f' title='Show/Hide index repr'><svg class='icon xr-icon-database'><use xlink:href='#icon-database'></use></svg></label><div class='xr-index-data'><pre>PandasIndex(DatetimeIndex([&#x27;1950-01-01&#x27;, &#x27;1950-01-02&#x27;, &#x27;1950-01-03&#x27;, &#x27;1950-01-04&#x27;,\n",
       "               &#x27;1950-01-05&#x27;, &#x27;1950-01-06&#x27;, &#x27;1950-01-07&#x27;, &#x27;1950-01-08&#x27;,\n",
       "               &#x27;1950-01-09&#x27;, &#x27;1950-01-10&#x27;,\n",
       "               ...\n",
       "               &#x27;2022-05-06&#x27;, &#x27;2022-05-07&#x27;, &#x27;2022-05-08&#x27;, &#x27;2022-05-09&#x27;,\n",
       "               &#x27;2022-05-10&#x27;, &#x27;2022-05-11&#x27;, &#x27;2022-05-12&#x27;, &#x27;2022-05-13&#x27;,\n",
       "               &#x27;2022-05-14&#x27;, &#x27;2022-05-15&#x27;],\n",
       "              dtype=&#x27;datetime64[ns]&#x27;, name=&#x27;time&#x27;, length=26433, freq=None))</pre></div></li></ul></div></li><li class='xr-section-item'><input id='section-a4217d0a-65b3-4ff5-9433-51933c7612f5' class='xr-section-summary-in' type='checkbox' disabled ><label for='section-a4217d0a-65b3-4ff5-9433-51933c7612f5' class='xr-section-summary'  title='Expand/collapse section'>Attributes: <span>(0)</span></label><div class='xr-section-inline-details'></div><div class='xr-section-details'><dl class='xr-attrs'></dl></div></li></ul></div></div>"
      ],
      "text/plain": [
       "<xarray.Dataset> Size: 244MB\n",
       "Dimensions:        (longitude: 48, latitude: 48, time: 26433)\n",
       "Coordinates:\n",
       "    spatial_ref    int64 8B 0\n",
       "  * longitude      (longitude) float64 384B 1.275e+06 1.276e+06 ... 1.28e+06\n",
       "  * latitude       (latitude) float64 384B -4.756e+06 -4.756e+06 ... -4.76e+06\n",
       "  * time           (time) datetime64[ns] 211kB 1950-01-01 ... 2022-05-15\n",
       "Data variables:\n",
       "    precipitation  (latitude, longitude, time) float32 244MB 0.0 0.0 ... 0.0 0.0"
      ]
     },
     "execution_count": 6,
     "metadata": {},
     "output_type": "execute_result"
    }
   ],
   "source": [
    "precipitation_xr"
   ]
  },
  {
   "cell_type": "markdown",
   "metadata": {},
   "source": [
    "One can notice that the precipitation raster has time variable. We then have access of cumulative daily precipitation data since the 1st of January 1950"
   ]
  },
  {
   "cell_type": "code",
   "execution_count": 7,
   "metadata": {},
   "outputs": [
    {
     "data": {
      "image/png": "[encoded data removed]",
      "text/plain": [
       "<Figure size 1400x600 with 4 Axes>"
      ]
     },
     "metadata": {},
     "output_type": "display_data"
    }
   ],
   "source": [
    "fig, ax = plt.subplots(1, 2, figsize=(14, 6))\n",
    "vegetation_xr.vegetation.plot(ax=ax[0])\n",
    "ax[0].set_title(\"Vegetation class\")\n",
    "precipitation_xr.precipitation[dict(time=3)].plot(ax=ax[1])\n",
    "ax[1].set_title(\"Daily precipitation (mm)\")\n",
    "ax[1].set_xlabel(\"longitude\")\n",
    "ax[1].set_ylabel(\"latitude\")\n",
    "plt.tight_layout()\n",
    "plt.show()"
   ]
  },
  {
   "cell_type": "markdown",
   "metadata": {},
   "source": [
    "The vegetation raster is a gridded array of categorical values with information on the type of the dominant vegetation of each pixel.\n",
    "\n",
    "    - Class 90 : Water and urban areas\n",
    "    - Class 100: Herbaceous class\n",
    "    - Class 110: Forest class\n",
    "    - Class 120: Shrubland class\n",
    "    \n",
    "For example, the pixel at location (longitude 1277929.24, latitude -4758284.41) displays a value of 120, meaning that the vegetation at this location is shrubland."
   ]
  },
  {
   "cell_type": "markdown",
   "metadata": {},
   "source": [
    "#### What is each raster's resolution (in meters)?\n",
    "\n",
    "The resolution is defined as the distance between the centres of 2 neighbour pixels."
   ]
  },
  {
   "cell_type": "code",
   "execution_count": 15,
   "metadata": {},
   "outputs": [
    {
     "name": "stdout",
     "output_type": "stream",
     "text": [
      "visualizing if the difference is same or not\n",
      "250.0 -250.0\n",
      "250.0 -250.0\n",
      "250.0 -250.0\n",
      "250.0 -250.0\n",
      "250.0 -250.0\n",
      "250.0 -250.0\n",
      "250.0 -250.0\n",
      "250.0 -250.0\n",
      "250.0 -250.0\n",
      "250.0 -250.0\n",
      "250.0 -250.0\n",
      "250.0 -250.0\n",
      "250.0 -250.0\n",
      "250.0 -250.0\n",
      "250.0 -250.0\n",
      "250.0 -250.0\n",
      "250.0 -250.0\n",
      "250.0 -250.0\n",
      "250.0 -250.0\n",
      "\n",
      "longitude resolution = 250.0 meters\n",
      "\n",
      "latitude resolution = 250.0 meters\n",
      "\n",
      "vegitation resolution = 250 meters\n",
      "\n",
      "visualizing if the difference is same or not\n",
      "99.69939879747108 -99.69939879793674\n",
      "99.6993987977039 -99.69939879700541\n",
      "99.69939879747108 -99.69939879793674\n",
      "99.6993987977039 -99.69939879700541\n",
      "99.69939879747108 -99.69939879793674\n",
      "99.6993987977039 -99.69939879793674\n",
      "99.6993987977039 -99.69939879700541\n",
      "99.69939879747108 -99.69939879793674\n",
      "99.6993987977039 -99.69939879793674\n",
      "99.69939879747108 -99.69939879700541\n",
      "99.6993987977039 -99.69939879793674\n",
      "99.69939879747108 -99.69939879793674\n",
      "99.6993987977039 -99.69939879700541\n",
      "99.69939879747108 -99.69939879793674\n",
      "99.6993987977039 -99.69939879700541\n",
      "99.69939879747108 -99.69939879793674\n",
      "99.6993987977039 -99.69939879793674\n",
      "99.69939879747108 -99.69939879700541\n",
      "99.6993987977039 -99.69939879793674\n",
      "99.69939879747108 -99.69939879793674\n",
      "99.6993987977039 -99.69939879700541\n",
      "99.6993987977039 -99.69939879793674\n",
      "99.69939879747108 -99.69939879793674\n",
      "99.6993987977039 -99.69939879700541\n",
      "99.69939879747108 -99.69939879793674\n",
      "99.6993987977039 -99.69939879700541\n",
      "99.69939879747108 -99.69939879793674\n",
      "99.6993987977039 -99.69939879793674\n",
      "99.69939879747108 -99.69939879700541\n",
      "99.6993987977039 -99.69939879793674\n",
      "99.69939879747108 -99.69939879793674\n",
      "99.6993987977039 -99.69939879700541\n",
      "99.69939879747108 -99.69939879793674\n",
      "99.6993987977039 -99.69939879700541\n",
      "99.69939879747108 -99.69939879793674\n",
      "99.6993987977039 -99.69939879793674\n",
      "99.6993987977039 -99.69939879700541\n",
      "99.69939879747108 -99.69939879793674\n",
      "99.6993987977039 -99.69939879793674\n",
      "99.69939879747108 -99.69939879700541\n",
      "99.6993987977039 -99.69939879793674\n",
      "99.69939879747108 -99.69939879793674\n",
      "99.6993987977039 -99.69939879700541\n",
      "99.69939879747108 -99.69939879793674\n",
      "99.6993987977039 -99.69939879700541\n",
      "99.69939879747108 -99.69939879793674\n",
      "99.6993987977039 -99.69939879793674\n",
      "\n",
      "longitude resolution = 99.69939879759492 meters\n",
      "\n",
      "latitude resolution = 99.69939879759987 meters\n",
      "\n",
      "precipitation resolution = 99 meters\n"
     ]
    }
   ],
   "source": [
    "# NOTE: fill me!\n",
    "\"\"\"\n",
    "Created on Tue Aug 13 18:29:21 2024\n",
    "@author: harishgunasekaran\n",
    "\"\"\"\n",
    "# here the unit of raster's resolution of question is in meters. \n",
    "# meaning, the question asked is regarding the spatial resolution and not the time resoultion. \n",
    "\n",
    "##  for vegetation\n",
    "#get the size of array\n",
    "vegetSize = np.shape(vegetation_xr.vegetation)[0]\n",
    "\n",
    "# initialize the dummy array with NaN\n",
    "# aims to store the difference between neighboring pixels\n",
    "longi_resol_all  = np.ones(vegetSize-1)*np.nan\n",
    "lati_resol_all  = np.ones(vegetSize-1)*np.nan\n",
    "for i in np.arange(1,vegetSize):\n",
    "    diff_longi = vegetation_xr.vegetation['longitude'][i].values - vegetation_xr.vegetation['longitude'][i-1].values\n",
    "    diff_lati = vegetation_xr.vegetation['latitude'][i].values - vegetation_xr.vegetation['latitude'][i-1].values\n",
    "    # check/visualize if the difference is same or not by printing them\n",
    "    if i==1:\n",
    "        print('visualizing if the difference is same or not')\n",
    "    print(diff_longi, diff_lati)\n",
    "    # store all the abs difference in the array \n",
    "    longi_resol_all[i-1] = np.abs(diff_longi.copy())\n",
    "    lati_resol_all[i-1] = np.abs(diff_lati.copy())\n",
    "\n",
    "    \n",
    "# take the mean of difference      \n",
    "avg_resol_longi = np.mean(longi_resol_all)\n",
    "avg_resol_lati = np.mean(lati_resol_all)\n",
    "\n",
    "print('\\nlongitude resolution = %s meters' % avg_resol_longi)\n",
    "print('\\nlatitude resolution = %s meters' % avg_resol_lati)\n",
    "\n",
    "vegetation_res = int(np.mean([avg_resol_longi, avg_resol_lati]))\n",
    "print('\\nvegitation resolution = %s meters\\n' % vegetation_res)\n",
    "\n",
    "## repeat the same for precipitation\n",
    "#get the size of array\n",
    "precipSize = np.shape(precipitation_xr.precipitation)[0]\n",
    "\n",
    "# initialize the dummy array with NaN\n",
    "# aims to store the difference between neighboring pixels\n",
    "longi_resol_all  = np.ones(precipSize-1)*np.nan\n",
    "lati_resol_all  = np.ones(precipSize-1)*np.nan\n",
    "for i in np.arange(1,precipSize):\n",
    "    diff_longi = precipitation_xr.precipitation['longitude'][i].values - precipitation_xr.precipitation['longitude'][i-1].values\n",
    "    diff_lati = precipitation_xr.precipitation['latitude'][i].values - precipitation_xr.precipitation['latitude'][i-1].values\n",
    "    # check/visualize if the difference is same or not by printing them\n",
    "    if i==1:\n",
    "        print('visualizing if the difference is same or not')\n",
    "    print(diff_longi, diff_lati)\n",
    "    # store all the abs difference in the array \n",
    "    longi_resol_all[i-1] = np.abs(diff_longi.copy())\n",
    "    lati_resol_all[i-1] = np.abs(diff_lati.copy())\n",
    "    \n",
    "# take the mean of difference      \n",
    "avg_resol_longi = np.mean(longi_resol_all)\n",
    "avg_resol_lati = np.mean(lati_resol_all)\n",
    "\n",
    "print('\\nlongitude resolution = %s meters' % avg_resol_longi)\n",
    "print('\\nlatitude resolution = %s meters' % avg_resol_lati)\n",
    "\n",
    "\n",
    "precipitation_res = int(np.mean([avg_resol_longi, avg_resol_lati]))\n",
    "print('\\nprecipitation resolution = %s meters' % precipitation_res)\n",
    "\n",
    "\n",
    "vegetation_resolution = vegetation_res \n",
    "precipitation_resolution = precipitation_res"
   ]
  },
  {
   "cell_type": "code",
   "execution_count": 24,
   "metadata": {},
   "outputs": [
    {
     "name": "stdout",
     "output_type": "stream",
     "text": [
      "\n",
      "time resolution in ns =  86400000000000.0\n",
      "\n",
      "time resolution in s =  86400.0\n",
      "\n",
      "time resolution in day =  1.0\n"
     ]
    }
   ],
   "source": [
    "## EXTRA STEPS FOR CURIOSITY\n",
    "## Finding time resoultion of precipitation in the similar way as above\n",
    "precipResolSize = np.shape(precipitation_xr.precipitation)[2]\n",
    "time_resol_all  = np.ones(precipResolSize-1)*np.nan\n",
    "for i in np.arange(1,precipResolSize):\n",
    "    diff_time = precipitation_xr.precipitation['time'][i].values - precipitation_xr.precipitation['time'][i-1].values\n",
    "    time_resol_all[i-1] = diff_time.copy()\n",
    "    # print(diff_time)\n",
    "\n",
    "avg_resol_time = np.mean(time_resol_all)\n",
    "#% unit conversions\n",
    "avg_resol_time_sec = avg_resol_time * 1e-9\n",
    "avg_resol_time_day = avg_resol_time_sec/(60*60*24)\n",
    "print('\\ntime resolution in ns = ', avg_resol_time)\n",
    "print('\\ntime resolution in s = ', avg_resol_time_sec)\n",
    "print('\\ntime resolution in day = ', avg_resol_time_day)\n"
   ]
  },
  {
   "cell_type": "code",
   "execution_count": 16,
   "metadata": {},
   "outputs": [],
   "source": [
    "assert isinstance(vegetation_resolution, int)\n",
    "assert isinstance(precipitation_resolution, int)"
   ]
  },
  {
   "cell_type": "markdown",
   "metadata": {},
   "source": [
    "# 3. Manipulate rasters"
   ]
  },
  {
   "cell_type": "markdown",
   "metadata": {},
   "source": [
    "### 3.1 Change rasters' resolution"
   ]
  },
  {
   "cell_type": "markdown",
   "metadata": {},
   "source": [
    "Your task is to get the precipitation for all grid cells in the forest class (value of 110). Unfortunately, the 2 rasters do not have the same resolution. Your task will be to reindex the 2 rasters at the **same** resolution."
   ]
  },
  {
   "cell_type": "markdown",
   "metadata": {},
   "source": [
    "The resolution of each raster should be the finest one out of the 2 intial datasets.\n",
    "\n",
    "To downscale (move from coarse to finer resolution), you will use the function `xarray.interp()`: https://docs.xarray.dev/en/stable/generated/xarray.DataArray.interp.html"
   ]
  },
  {
   "cell_type": "code",
   "execution_count": 21,
   "metadata": {},
   "outputs": [
    {
     "data": {
      "image/png": "[encoded data removed]",
      "text/plain": [
       "<Figure size 1400x600 with 4 Axes>"
      ]
     },
     "metadata": {},
     "output_type": "display_data"
    }
   ],
   "source": [
    "# NOTE: fill me!\n",
    "\n",
    "\"\"\"\n",
    "Created on Sat Aug 21 11:18:21 2024\n",
    "@author: harishgunasekaran\n",
    "\"\"\"\n",
    "## from the above test on resoultion we found that, \n",
    "## precipitation resolution is finer (99 meters), \n",
    "## while the vegation resolution is coarse (250 meters)\n",
    "## solution: downscale the vegation_xr to a finer resolution like that of precipitation_xr\n",
    "## using xr.interp(coords = coords of precipitation_xr, method = \"nearest\")\n",
    "\n",
    "## Note. the default linear interpolation could not be done here, \n",
    "## since we are interested in knowing the class whose values are integers.\n",
    "\n",
    "vegetation_downscaled_xr = vegetation_xr.interp(coords= dict(latitude = precipitation_xr['latitude'].values, \n",
    "                                                      longitude = precipitation_xr['longitude'].values),\n",
    "                                                method=\"nearest\")\n",
    "\n",
    "## plotting the original vs. downscaled vegetation\n",
    "fig, ax = plt.subplots(1, 2, figsize=(14, 6))\n",
    "vegetation_xr.vegetation.plot(ax=ax[0])\n",
    "ax[0].set_title(\"Vegetation class\")\n",
    "vegetation_downscaled_xr.vegetation.plot(ax=ax[1])\n",
    "ax[1].set_title(\"Vegetation class interpolated\")\n",
    "ax[1].set_xlabel(\"longitude\")\n",
    "ax[1].set_ylabel(\"latitude\")\n",
    "plt.tight_layout()\n",
    "plt.show()\n",
    "\n",
    "## No change to the precipitation dataset\n",
    "precipitation_downscaled_xr = precipitation_xr.copy()\n"
   ]
  },
  {
   "cell_type": "code",
   "execution_count": 19,
   "metadata": {},
   "outputs": [],
   "source": [
    "assert isinstance(vegetation_downscaled_xr, xr.Dataset)\n",
    "assert isinstance(precipitation_downscaled_xr, xr.Dataset)"
   ]
  },
  {
   "cell_type": "markdown",
   "metadata": {},
   "source": [
    "## 3.2 Compute mean precipitation"
   ]
  },
  {
   "cell_type": "markdown",
   "metadata": {},
   "source": [
    "The client has forests that span over all the area showed by the raster, which means that all grid cells in forest class belong to the client."
   ]
  },
  {
   "cell_type": "markdown",
   "metadata": {},
   "source": [
    "**Task**\n",
    "\n",
    "Your task is to compute the mean daily precipitation for grid cells only in **forest class**. You may want to use the function [`xarray.where()`](https://docs.xarray.dev/en/stable/generated/xarray.where.html).\n",
    "\n",
    "The output will be a dataframe `df_rain_historical` with the dates as index with name `Date` and the column daily precipitation renamed `daily_rain`. You could use the function [`xarray.to_dataframe()`](https://docs.xarray.dev/en/stable/generated/xarray.DataArray.to_dataframe.html)"
   ]
  },
  {
   "cell_type": "code",
   "execution_count": 40,
   "metadata": {},
   "outputs": [
    {
     "data": {
      "image/png": "[encoded data removed]",
      "text/plain": [
       "<Figure size 1400x600 with 2 Axes>"
      ]
     },
     "metadata": {},
     "output_type": "display_data"
    },
    {
     "name": "stdout",
     "output_type": "stream",
     "text": [
      "            daily_rain\n",
      "Date                  \n",
      "1950-01-01    0.000000\n",
      "1950-01-02    0.000000\n",
      "1950-01-03    5.899972\n",
      "1950-01-04    2.300004\n",
      "1950-01-05    0.000000\n",
      "...                ...\n",
      "2022-05-11   20.099937\n",
      "2022-05-12    7.199967\n",
      "2022-05-13   24.799871\n",
      "2022-05-14    0.000000\n",
      "2022-05-15    0.000000\n",
      "\n",
      "[26433 rows x 1 columns]\n"
     ]
    }
   ],
   "source": [
    "# NOTE: fill me!\n",
    "#%% get the precipitation for all grid cells in the forest class (value of 110).\n",
    "\n",
    "vegetation_forest_class = vegetation_downscaled_xr.vegetation == 110\n",
    "precipitation_xr_forest_class = precipitation_xr.where(vegetation_forest_class)\n",
    "\n",
    "## visualization\n",
    "## plotting the all class rainfall vs. only forest class rainfall\n",
    "fig, ax = plt.subplots(1, 2, figsize=(14, 6), sharey = True)\n",
    "precipitation_xr.precipitation.plot(ax=ax[0])\n",
    "ax[0].set_title(\"Precipitation all class\")\n",
    "precipitation_xr_forest_class.precipitation.plot(ax=ax[1])\n",
    "ax[1].set_title(\"Precipitation forest class\")\n",
    "plt.tight_layout()\n",
    "plt.show()\n",
    "\n",
    "## verify if error, by reruning the above script using, vegetation_xr.vegetation == 110\n",
    "\n",
    "# remove unwanted dimension\n",
    "precipitation_xr_forest_class_clean = precipitation_xr_forest_class.drop_vars([\"spatial_ref\"])\n",
    "\n",
    "# taking mean precipitation across latitude and longitude for each day\n",
    "mean_precipitation_xr_forest_class = precipitation_xr_forest_class_clean['precipitation'].mean(dim = ['latitude','longitude'],skipna=True)\n",
    "\n",
    "# converting xarray to pandas dataframe format\n",
    "df_rain_historical = mean_precipitation_xr_forest_class.to_dataframe()\n",
    "\n",
    "# renaming the index of dataframe to \"Date\" and columns to \"daily_rain\"\n",
    "df_rain_historical.index.name = \"Date\"\n",
    "df_rain_historical.columns = [\"daily_rain\"]\n",
    "\n",
    "# visualize the dataframe\n",
    "print(df_rain_historical)\n"
   ]
  },
  {
   "cell_type": "code",
   "execution_count": 28,
   "metadata": {},
   "outputs": [],
   "source": [
    "assert df_rain_historical.index.name == \"Date\""
   ]
  },
  {
   "cell_type": "markdown",
   "metadata": {},
   "source": [
    "## 3.3 Next steps"
   ]
  },
  {
   "cell_type": "markdown",
   "metadata": {},
   "source": [
    "The previous task helped you to compute the daily precipitation for one day at the client's locations. We actually have access to 70 years of historical data and that's the object of the next steps. The data from the previous part has been extracted at the client location into a dataframe that you will use from now on"
   ]
  },
  {
   "cell_type": "markdown",
   "metadata": {},
   "source": [
    "# 4. Pricing"
   ]
  },
  {
   "cell_type": "markdown",
   "metadata": {},
   "source": [
    "## 4.1 Context\n",
    "\n",
    "The client is looking to be covered against excess of rain.\n",
    "\n",
    "The client wishes to receive a payout under the following conditions:\n",
    "+ Depends on the cumulative rainfall (mm) over the season.\n",
    "+ Linear payout starting at a deductible of 650 mm and limit of 750 mm with a payout of AUD 500,000.\n",
    "\n",
    "It means that \n",
    "+ If the cumulative rainfall is below 650 mm, the client receives nothing.\n",
    "+ If the cumulative rainfall is above 750 mm, the client receives the max payout of AUD 500,000 no matter the loss.\n",
    "+ If the cumulative rainfall is between 650 and 750 mm, the payout is linear, slope of AUD 5,000 per mm. For example, if the cumulative rainfall is 700 mm, the payout would be AUD 250,000.\n"
   ]
  },
  {
   "cell_type": "markdown",
   "metadata": {},
   "source": [
    "## 4.2 Data"
   ]
  },
  {
   "cell_type": "markdown",
   "metadata": {},
   "source": [
    "We have access to the cumulative rainfall (in millimeters-mm) each day since 1950 January 1st using the task before."
   ]
  },
  {
   "cell_type": "markdown",
   "metadata": {},
   "source": [
    "## 4.3 Preprocessing"
   ]
  },
  {
   "cell_type": "markdown",
   "metadata": {},
   "source": [
    "### 4.3.1 Filtering"
   ]
  },
  {
   "cell_type": "markdown",
   "metadata": {},
   "source": [
    "**Risk period**\n",
    "\n",
    "The client would like to be covered from the 1st of December of a given year until 1st of March of the following year (**not included**).\n",
    "\n",
    "**Task**\n",
    "- Filter the historical dates to keep only the ones in the risk periods. ⚠️ You should not have incomplete seasons. ⚠️\n",
    "- Remove the rows with the date equal to February 29th.\n",
    "- Create a `season` column, the value of the season is the year corresponding to the 1st of December. For example, for the given risk period 1st of December 2021 - 1st of March 2022, the season is 2021."
   ]
  },
  {
   "cell_type": "code",
   "execution_count": 43,
   "metadata": {},
   "outputs": [
    {
     "name": "stdout",
     "output_type": "stream",
     "text": [
      "0\n",
      "\n",
      " 0\n"
     ]
    }
   ],
   "source": [
    "# NOTE: fill me!\n",
    "\"\"\"\n",
    "Created on Mon Aug 26 15:54:44 2024\n",
    "\n",
    "@author: harishgunasekaran\n",
    "\"\"\"\n",
    "\n",
    "# filter by months Jan, Feb, December (risk period)\n",
    "df_rain_historical = df_rain_historical.loc[df_rain_historical.index.month.isin([1,2,12])]\n",
    "\n",
    "## check the leap years and 29\n",
    "print(np.sum((df_rain_historical.index.day==29) & (df_rain_historical.index.month==2)))\n",
    "# Out[65]: 18\n",
    "\n",
    "# filter the 29 Feb\n",
    "df_rain_historical = df_rain_historical.drop(df_rain_historical[(df_rain_historical.index.month==2) & (df_rain_historical.index.day==29)].index)\n",
    "\n",
    "## check again if the output is zero\n",
    "print('\\n',np.sum((df_rain_historical.index.day==29) & (df_rain_historical.index.month==2)))\n",
    "# Out[67]: 0\n",
    "\n",
    "# removing incomplete seasons \n",
    "# filter Jan, Feb 1950\n",
    "df_rain_historical = df_rain_historical.drop(df_rain_historical[(df_rain_historical.index.year==1950) & (df_rain_historical.index.month.isin([1,2]))].index)\n",
    "\n",
    "# adding a new column, add the corresponding year\n",
    "df_rain_historical['season'] = df_rain_historical.index.year\n",
    "\n",
    "# replace values in the 'season' column based on condition and make the 'seasonal' year\n",
    "df_rain_historical.loc[df_rain_historical.index.month==12, 'season'] = df_rain_historical['season']+1\n"
   ]
  },
  {
   "cell_type": "code",
   "execution_count": 44,
   "metadata": {},
   "outputs": [],
   "source": [
    "assert list(df_rain_historical.columns) == [\"daily_rain\", \"season\"]"
   ]
  },
  {
   "cell_type": "markdown",
   "metadata": {},
   "source": [
    "### 4.3.2 Regroup by season"
   ]
  },
  {
   "cell_type": "markdown",
   "metadata": {},
   "source": [
    "**Task**\n",
    "\n",
    "- Create a new dataframe `df_cum_rain` by regrouping by season and by computing the cumulative rainfall over the risk period.\n",
    "- Rename the column `daily_rain` by `cum_rain`."
   ]
  },
  {
   "cell_type": "code",
   "execution_count": 48,
   "metadata": {},
   "outputs": [
    {
     "name": "stdout",
     "output_type": "stream",
     "text": [
      "    season    cum_rain\n",
      "0     1951  682.498901\n",
      "1     1952  228.799973\n",
      "2     1953  479.200775\n",
      "3     1954  612.900330\n",
      "4     1955  514.200256\n",
      "..     ...         ...\n",
      "67    2018  345.799438\n",
      "68    2019  243.898972\n",
      "69    2020  243.800156\n",
      "70    2021  128.799988\n",
      "71    2022  150.100433\n",
      "\n",
      "[72 rows x 2 columns]\n"
     ]
    }
   ],
   "source": [
    "# NOTE: fill me!\n",
    "#%% 4.3.2 Regroup by season, finding the cumulative rain and renaming the columns\n",
    "df_cum_rain = df_rain_historical.groupby('season').sum()\n",
    "df_cum_rain = df_cum_rain.reset_index()\n",
    "df_cum_rain = df_cum_rain.rename(columns={\"daily_rain\": \"cum_rain\"}) \n",
    "print(df_cum_rain)"
   ]
  },
  {
   "cell_type": "markdown",
   "metadata": {},
   "source": [
    "## 4.4 Compute payouts"
   ]
  },
  {
   "cell_type": "markdown",
   "metadata": {},
   "source": [
    "Using the current values of `cum_rain`, we will now compute the historical payouts.\n",
    "\n",
    "**Task**\n",
    "- Design a function that computes the payouts using the structure defined above.\n",
    "- Compute historical payouts since 1950 by creating a new dataframe `df_historical_payouts` with column `hist_payouts`. \n",
    "\n",
    "The resulting mean value of historical payouts is called **burning cost** and corresponds to the mean payout the client would have received based on the historica data. This is an important metrics in the design of insurance covers."
   ]
  },
  {
   "cell_type": "code",
   "execution_count": 53,
   "metadata": {},
   "outputs": [
    {
     "name": "stdout",
     "output_type": "stream",
     "text": [
      "burning cost of the client = AUD 26548.45\n"
     ]
    }
   ],
   "source": [
    "# NOTE: fill me!\n",
    "\n",
    "# function that computes the payouts \n",
    "def compute_payouts(df1):\n",
    "    slope = 5000\n",
    "    df2 = pd.DataFrame()\n",
    "    df2 = df1.copy()\n",
    "    df2.loc[df2['cum_rain'] < 650.0 , 'hist_payouts'] = 0\n",
    "    df2.loc[df2['cum_rain'] > 750.0 , 'hist_payouts'] = 500000\n",
    "    df2.loc[ (df2['cum_rain'] >= 650.0) & (df2['cum_rain'] <= 750.0) , 'hist_payouts'] = slope * df2['cum_rain'] - 3250000\n",
    "    df2 = df2.drop('cum_rain', axis=1)\n",
    "    df2 = df2.drop('season', axis=1)\n",
    "    return df2\n",
    "\n",
    "df_historical_payouts =  compute_payouts(df_cum_rain)\n",
    "burning_cost = np.round(df_historical_payouts['hist_payouts'].mean(),2)\n",
    "print('burning cost of the client = AUD', burning_cost)\n"
   ]
  },
  {
   "cell_type": "markdown",
   "metadata": {},
   "source": [
    "## 4.5 Weighting"
   ]
  },
  {
   "cell_type": "markdown",
   "metadata": {},
   "source": [
    "### 4.5.1 Year type"
   ]
  },
  {
   "cell_type": "markdown",
   "metadata": {},
   "source": [
    "We actually have access to historical yearly forecasts that states if the year was supposed to be rainy or not. There are 3 predictions:\n",
    "- neutral\n",
    "- dry\n",
    "- rainy\n",
    "\n",
    "All the information is stored in the dataframe `df_year_type`.\n",
    "\n",
    "We will use this information to compute a weighted payouts using next year forecast."
   ]
  },
  {
   "cell_type": "code",
   "execution_count": 54,
   "metadata": {},
   "outputs": [],
   "source": [
    "year_type_data_path = DATA_PATH / \"pricing\" / \"year_type_historical.csv\""
   ]
  },
  {
   "cell_type": "code",
   "execution_count": 56,
   "metadata": {},
   "outputs": [
    {
     "data": {
      "text/html": [
       "<div>\n",
       "<style scoped>\n",
       "    .dataframe tbody tr th:only-of-type {\n",
       "        vertical-align: middle;\n",
       "    }\n",
       "\n",
       "    .dataframe tbody tr th {\n",
       "        vertical-align: top;\n",
       "    }\n",
       "\n",
       "    .dataframe thead th {\n",
       "        text-align: right;\n",
       "    }\n",
       "</style>\n",
       "<table border=\"1\" class=\"dataframe\">\n",
       "  <thead>\n",
       "    <tr style=\"text-align: right;\">\n",
       "      <th></th>\n",
       "      <th>year_type</th>\n",
       "    </tr>\n",
       "    <tr>\n",
       "      <th>season</th>\n",
       "      <th></th>\n",
       "    </tr>\n",
       "  </thead>\n",
       "  <tbody>\n",
       "    <tr>\n",
       "      <th>1950</th>\n",
       "      <td>rainy</td>\n",
       "    </tr>\n",
       "    <tr>\n",
       "      <th>1951</th>\n",
       "      <td>dry</td>\n",
       "    </tr>\n",
       "    <tr>\n",
       "      <th>1952</th>\n",
       "      <td>neutral</td>\n",
       "    </tr>\n",
       "    <tr>\n",
       "      <th>1953</th>\n",
       "      <td>dry</td>\n",
       "    </tr>\n",
       "    <tr>\n",
       "      <th>1954</th>\n",
       "      <td>rainy</td>\n",
       "    </tr>\n",
       "  </tbody>\n",
       "</table>\n",
       "</div>"
      ],
      "text/plain": [
       "       year_type\n",
       "season          \n",
       "1950       rainy\n",
       "1951         dry\n",
       "1952     neutral\n",
       "1953         dry\n",
       "1954       rainy"
      ]
     },
     "execution_count": 56,
     "metadata": {},
     "output_type": "execute_result"
    }
   ],
   "source": [
    "df_year_type = (\n",
    "    pd.read_csv(year_type_data_path, index_col=0)\n",
    "    .rename(columns={\"Year\": \"season\"})\n",
    "    .set_index(\"season\")\n",
    ")\n",
    "df_year_type.head()"
   ]
  },
  {
   "cell_type": "markdown",
   "metadata": {},
   "source": [
    "**Task**\n",
    "\n",
    "Do the same computation (historical payouts) for each of the year type (rainy, dry or neutral). Compute the burning cost of each of the year type. What can you observe ?"
   ]
  },
  {
   "cell_type": "code",
   "execution_count": 63,
   "metadata": {},
   "outputs": [
    {
     "name": "stdout",
     "output_type": "stream",
     "text": [
      "burning cost of the client based on year type = AUD 253472.22\n",
      "\n",
      " I made two oberservations: \n",
      "\n",
      " 1) definition of neutral year is ambigous, not clear how much payout to be covered during computation\n",
      "\n",
      " 2) on assuming a flat fifty-percent cover, the mean payout (i.e., buring cost) has become a huge cost\n"
     ]
    }
   ],
   "source": [
    "# NOTE: fill me!\n",
    "\n",
    "def compute_payouts_year_type(df1):\n",
    "    df2 = pd.DataFrame()\n",
    "    df2 = df1.copy()\n",
    "    df2.loc[df2['year_type'] == 'dry' , 'hist_payouts'] = 0 # no cover\n",
    "    df2.loc[df2['year_type'] == 'rainy' , 'hist_payouts'] = 500000   # hundred percent cover\n",
    "    df2.loc[df2['year_type'] == 'neutral' , 'hist_payouts'] = 250000 # fifty percent cover\n",
    "    df2 = df2.drop('year_type', axis=1)\n",
    "    return df2\n",
    "\n",
    "df_historical_payouts_year_type =  compute_payouts_year_type(df_year_type)\n",
    "burning_cost_year_type = np.round(df_historical_payouts_year_type['hist_payouts'].mean(),2)\n",
    "print('burning cost of the client based on year type = AUD', burning_cost_year_type)\n",
    "print(\"\\n I made two oberservations: \" )\n",
    "print(\"\\n 1) definition of neutral year is ambigous, not clear how much payout to be covered during computation\")\n",
    "print(\"\\n 2) on assuming a flat fifty-percent cover, the mean payout (i.e., buring cost) has become a huge cost\")"
   ]
  },
  {
   "cell_type": "markdown",
   "metadata": {},
   "source": [
    "### 4.5.2 Next year forecast"
   ]
  },
  {
   "cell_type": "markdown",
   "metadata": {},
   "source": [
    "The forecast for next year is given in terms of probability for each of the year types:"
   ]
  },
  {
   "cell_type": "code",
   "execution_count": 59,
   "metadata": {},
   "outputs": [],
   "source": [
    "next_year_forecast = {\"dry\": 0.58, \"neutral\": 0.37, \"rainy\": 0.05}"
   ]
  },
  {
   "cell_type": "markdown",
   "metadata": {},
   "source": [
    "**Task**\n",
    "\n",
    "How would you leverage on these forecasts to better estimate the risk and adjust the burning cost ? "
   ]
  },
  {
   "cell_type": "code",
   "execution_count": 64,
   "metadata": {},
   "outputs": [
    {
     "name": "stdout",
     "output_type": "stream",
     "text": [
      "\n",
      " burning cost of the client based on next year forecast = AUD 33908.45\n",
      "\n",
      " by forecasting and estimating the risk, the mean payout (i.e., buring cost) has significantly lowered by 86.62%\n"
     ]
    }
   ],
   "source": [
    "# NOTE: fill me!\n",
    "# we can use this info to give an estimate of hist_payouts \n",
    "# hist_payout weighted by probability of next year's forecast \n",
    "\n",
    "def compute_payouts_by_forecast(df1):\n",
    "    df2 = pd.DataFrame()\n",
    "    df2 = df1.copy()\n",
    "    df2.loc[df2['year_type'].shift(-1) == 'dry' , 'hist_payouts'] = 0 * next_year_forecast[\"dry\"] # no cover\n",
    "    df2.loc[df2['year_type'].shift(-1) == 'rainy' , 'hist_payouts'] = 500000 * next_year_forecast[\"rainy\"]   # hundred percent cover\n",
    "    df2.loc[df2['year_type'].shift(-1) == 'neutral' , 'hist_payouts'] = 250000 * next_year_forecast[\"neutral\"] # fifty percent cover\n",
    "    df2 = df2.drop('year_type', axis=1)\n",
    "    return df2\n",
    "\n",
    "df_historical_payouts_forecast =  compute_payouts_by_forecast(df_year_type)\n",
    "burning_cost_forecast = np.round(df_historical_payouts_forecast['hist_payouts'].mean(),2)\n",
    "\n",
    "print('\\n burning cost of the client based on next year forecast = AUD', burning_cost_forecast)\n",
    "print('\\n by forecasting and estimating the risk, the mean payout (i.e., buring cost) has significantly lowered by 86.62%')\n",
    "\n"
   ]
  },
  {
   "cell_type": "markdown",
   "metadata": {},
   "source": [
    "---\n",
    "# END OF SCRIPT"
   ]
  }
 ],
 "metadata": {
  "interpreter": {
   "hash": "609562af67587eb35886a56b48a4672082ceee8e713b9609d77bf52ed55036ee"
  },
  "kernelspec": {
   "display_name": "Python 3 (ipykernel)",
   "language": "python",
   "name": "python3"
  },
  "language_info": {
   "codemirror_mode": {
    "name": "ipython",
    "version": 3
   },
   "file_extension": ".py",
   "mimetype": "text/x-python",
   "name": "python",
   "nbconvert_exporter": "python",
   "pygments_lexer": "ipython3",
   "version": "3.10.12"
  }
 },
 "nbformat": 4,
 "nbformat_minor": 2
}
