{
 "cells": [
  {
   "cell_type": "markdown",
   "id": "85a88ab1",
   "metadata": {},
   "source": [
    "# Classification ignition point \n",
    "\n",
    "This project is a classification problem\n",
    "\n",
    "It is to determine whether a point has a probability to be an ignition point for wildfire. The ignition point is where the wildfire starts. To know the probability where a fire would start is central at Descartes because it will help us to better simulate wildfires.\n",
    "\n",
    "Don't hesitate to contact us, if you have any doubts on what is asked or if you encounter errors while using the notebook."
   ]
  },
  {
   "cell_type": "code",
   "execution_count": 1,
   "id": "d6059da4",
   "metadata": {},
   "outputs": [],
   "source": [
    "from pathlib import Path\n",
    "import pandas as pd"
   ]
  },
  {
   "cell_type": "code",
   "execution_count": 2,
   "id": "0bbf8da0",
   "metadata": {},
   "outputs": [],
   "source": [
    "%reload_ext autoreload\n",
    "%autoreload 2"
   ]
  },
  {
   "cell_type": "markdown",
   "id": "89945628",
   "metadata": {},
   "source": [
    "# Parameters"
   ]
  },
  {
   "cell_type": "code",
   "execution_count": 3,
   "id": "6552c490",
   "metadata": {},
   "outputs": [],
   "source": [
    "DATA_PATH = Path(\"data\")\n",
    "DATAFRAME_FOLDER_PATH = DATA_PATH / \"classification_dataframe\""
   ]
  },
  {
   "cell_type": "markdown",
   "id": "fc0d493a",
   "metadata": {},
   "source": [
    "# Download data"
   ]
  },
  {
   "cell_type": "code",
   "execution_count": 4,
   "id": "3298c725",
   "metadata": {},
   "outputs": [],
   "source": [
    "dataframe_path = DATAFRAME_FOLDER_PATH / \"dataset.csv\""
   ]
  },
  {
   "cell_type": "code",
   "execution_count": 23,
   "id": "016d769e",
   "metadata": {},
   "outputs": [
    {
     "data": {
      "text/html": [
       "<div>\n",
       "<style scoped>\n",
       "    .dataframe tbody tr th:only-of-type {\n",
       "        vertical-align: middle;\n",
       "    }\n",
       "\n",
       "    .dataframe tbody tr th {\n",
       "        vertical-align: top;\n",
       "    }\n",
       "\n",
       "    .dataframe thead th {\n",
       "        text-align: right;\n",
       "    }\n",
       "</style>\n",
       "<table border=\"1\" class=\"dataframe\">\n",
       "  <thead>\n",
       "    <tr style=\"text-align: right;\">\n",
       "      <th></th>\n",
       "      <th>Date</th>\n",
       "      <th>distance_fire_stations</th>\n",
       "      <th>distance_rivers</th>\n",
       "      <th>distance_roads</th>\n",
       "      <th>distance_powerlines</th>\n",
       "      <th>cropland</th>\n",
       "      <th>forest_deciduous_broad</th>\n",
       "      <th>forest_deciduous_needle</th>\n",
       "      <th>forest_evergreen_broad</th>\n",
       "      <th>forest_evergreen_needle</th>\n",
       "      <th>...</th>\n",
       "      <th>avg_wind_angle</th>\n",
       "      <th>avg_rel_hum</th>\n",
       "      <th>avg_soil</th>\n",
       "      <th>sum_prec</th>\n",
       "      <th>forest</th>\n",
       "      <th>vegetation_class</th>\n",
       "      <th>Year</th>\n",
       "      <th>max_max_temp</th>\n",
       "      <th>yearly_avg_temp</th>\n",
       "      <th>ignition</th>\n",
       "    </tr>\n",
       "  </thead>\n",
       "  <tbody>\n",
       "    <tr>\n",
       "      <th>0</th>\n",
       "      <td>2015-11-19</td>\n",
       "      <td>13287.682266</td>\n",
       "      <td>7211.102551</td>\n",
       "      <td>1250.000000</td>\n",
       "      <td>30196.233209</td>\n",
       "      <td>0.0</td>\n",
       "      <td>0.0</td>\n",
       "      <td>0.0</td>\n",
       "      <td>1.000000</td>\n",
       "      <td>0.0</td>\n",
       "      <td>...</td>\n",
       "      <td>225.773605</td>\n",
       "      <td>56.837185</td>\n",
       "      <td>0.297854</td>\n",
       "      <td>0.360376</td>\n",
       "      <td>1.000000</td>\n",
       "      <td>forest</td>\n",
       "      <td>2015</td>\n",
       "      <td>62.552337</td>\n",
       "      <td>14.994683</td>\n",
       "      <td>1</td>\n",
       "    </tr>\n",
       "    <tr>\n",
       "      <th>1</th>\n",
       "      <td>2003-02-17</td>\n",
       "      <td>8721.381771</td>\n",
       "      <td>2358.495283</td>\n",
       "      <td>250.000000</td>\n",
       "      <td>13768.169813</td>\n",
       "      <td>0.0</td>\n",
       "      <td>0.0</td>\n",
       "      <td>0.0</td>\n",
       "      <td>0.416667</td>\n",
       "      <td>0.0</td>\n",
       "      <td>...</td>\n",
       "      <td>209.708847</td>\n",
       "      <td>61.120739</td>\n",
       "      <td>0.264534</td>\n",
       "      <td>0.020176</td>\n",
       "      <td>0.833333</td>\n",
       "      <td>forest</td>\n",
       "      <td>2003</td>\n",
       "      <td>60.787457</td>\n",
       "      <td>15.053698</td>\n",
       "      <td>1</td>\n",
       "    </tr>\n",
       "    <tr>\n",
       "      <th>2</th>\n",
       "      <td>2012-02-26</td>\n",
       "      <td>10796.411441</td>\n",
       "      <td>0.000000</td>\n",
       "      <td>2015.564437</td>\n",
       "      <td>6254.998002</td>\n",
       "      <td>0.0</td>\n",
       "      <td>0.0</td>\n",
       "      <td>0.0</td>\n",
       "      <td>0.666667</td>\n",
       "      <td>0.0</td>\n",
       "      <td>...</td>\n",
       "      <td>76.341278</td>\n",
       "      <td>63.017559</td>\n",
       "      <td>0.208871</td>\n",
       "      <td>0.025395</td>\n",
       "      <td>1.000000</td>\n",
       "      <td>forest</td>\n",
       "      <td>2012</td>\n",
       "      <td>63.420256</td>\n",
       "      <td>15.001883</td>\n",
       "      <td>1</td>\n",
       "    </tr>\n",
       "    <tr>\n",
       "      <th>3</th>\n",
       "      <td>2004-11-10</td>\n",
       "      <td>8253.787010</td>\n",
       "      <td>559.016994</td>\n",
       "      <td>0.000000</td>\n",
       "      <td>37350.535471</td>\n",
       "      <td>0.0</td>\n",
       "      <td>0.0</td>\n",
       "      <td>0.0</td>\n",
       "      <td>0.000000</td>\n",
       "      <td>0.0</td>\n",
       "      <td>...</td>\n",
       "      <td>68.557823</td>\n",
       "      <td>64.673866</td>\n",
       "      <td>0.156506</td>\n",
       "      <td>0.000000</td>\n",
       "      <td>0.000000</td>\n",
       "      <td>wetland</td>\n",
       "      <td>2004</td>\n",
       "      <td>60.394119</td>\n",
       "      <td>14.850611</td>\n",
       "      <td>1</td>\n",
       "    </tr>\n",
       "    <tr>\n",
       "      <th>4</th>\n",
       "      <td>2003-03-19</td>\n",
       "      <td>9905.806378</td>\n",
       "      <td>0.000000</td>\n",
       "      <td>1903.943276</td>\n",
       "      <td>6427.480066</td>\n",
       "      <td>0.0</td>\n",
       "      <td>0.0</td>\n",
       "      <td>0.0</td>\n",
       "      <td>0.750000</td>\n",
       "      <td>0.0</td>\n",
       "      <td>...</td>\n",
       "      <td>316.951508</td>\n",
       "      <td>56.103680</td>\n",
       "      <td>0.208831</td>\n",
       "      <td>0.119717</td>\n",
       "      <td>0.916667</td>\n",
       "      <td>forest</td>\n",
       "      <td>2003</td>\n",
       "      <td>69.570496</td>\n",
       "      <td>NaN</td>\n",
       "      <td>1</td>\n",
       "    </tr>\n",
       "  </tbody>\n",
       "</table>\n",
       "<p>5 rows × 42 columns</p>\n",
       "</div>"
      ],
      "text/plain": [
       "         Date  distance_fire_stations  distance_rivers  distance_roads  \\\n",
       "0  2015-11-19            13287.682266      7211.102551     1250.000000   \n",
       "1  2003-02-17             8721.381771      2358.495283      250.000000   \n",
       "2  2012-02-26            10796.411441         0.000000     2015.564437   \n",
       "3  2004-11-10             8253.787010       559.016994        0.000000   \n",
       "4  2003-03-19             9905.806378         0.000000     1903.943276   \n",
       "\n",
       "   distance_powerlines  cropland  forest_deciduous_broad  \\\n",
       "0         30196.233209       0.0                     0.0   \n",
       "1         13768.169813       0.0                     0.0   \n",
       "2          6254.998002       0.0                     0.0   \n",
       "3         37350.535471       0.0                     0.0   \n",
       "4          6427.480066       0.0                     0.0   \n",
       "\n",
       "   forest_deciduous_needle  forest_evergreen_broad  forest_evergreen_needle  \\\n",
       "0                      0.0                1.000000                      0.0   \n",
       "1                      0.0                0.416667                      0.0   \n",
       "2                      0.0                0.666667                      0.0   \n",
       "3                      0.0                0.000000                      0.0   \n",
       "4                      0.0                0.750000                      0.0   \n",
       "\n",
       "   ...  avg_wind_angle  avg_rel_hum  avg_soil  sum_prec    forest  \\\n",
       "0  ...      225.773605    56.837185  0.297854  0.360376  1.000000   \n",
       "1  ...      209.708847    61.120739  0.264534  0.020176  0.833333   \n",
       "2  ...       76.341278    63.017559  0.208871  0.025395  1.000000   \n",
       "3  ...       68.557823    64.673866  0.156506  0.000000  0.000000   \n",
       "4  ...      316.951508    56.103680  0.208831  0.119717  0.916667   \n",
       "\n",
       "   vegetation_class  Year  max_max_temp  yearly_avg_temp  ignition  \n",
       "0            forest  2015     62.552337        14.994683         1  \n",
       "1            forest  2003     60.787457        15.053698         1  \n",
       "2            forest  2012     63.420256        15.001883         1  \n",
       "3           wetland  2004     60.394119        14.850611         1  \n",
       "4            forest  2003     69.570496              NaN         1  \n",
       "\n",
       "[5 rows x 42 columns]"
      ]
     },
     "execution_count": 23,
     "metadata": {},
     "output_type": "execute_result"
    }
   ],
   "source": [
    "df = pd.read_csv(dataframe_path, index_col=0)\n",
    "df.head()"
   ]
  },
  {
   "cell_type": "markdown",
   "id": "924476b3",
   "metadata": {},
   "source": [
    "# Structure of the dataframe and Task\n",
    "\n",
    "\n",
    "- Each row consists of an ignition or non-ignition point with the given features associated. The features were chosen as potentially influencing ignition.\n",
    "\n",
    "\n",
    "- The last column named `ignition` says if the point was a real ignition point (meaning that it occurred historically), in that case the value is `1`. Otherwise, when the value is `0`, it means that it is a 'non-ignition point'.\n",
    "\n",
    "\n",
    "- The columns `cropland` to `wetland` gives the ratio of each of the vegetation classes under which the ignition or non-ignition point lies. The sum of these ratios should be equal to 1. For more information refer to this website: https://lcviewer.vito.be/\n",
    "\n",
    "\n",
    "- The temperatures should be in degrees celsius `(°C)`.\n",
    "\n",
    "\n",
    "- The weather data come from different sources and they might have different units.\n",
    "\n",
    "| Column name | Definition | Unit |\n",
    "|--------|-----------|--------|\n",
    "| `ignition`   | Target column| Boolean: {1,0} |\n",
    "| `distance_{feature}` | Distance to nearest feature  |  Meters (m) |\n",
    "| vegetation class: from `cropland` to `wetland`  |  Ratio of each of the vegetation classes  under which the ignition or non-ignition point lies    |  No unit (between 0 and 1)  |\n",
    "| `aspect`  |  Orientation of the slope    |  Degrees (°)  |\n",
    "| `elevation`  |  elevation value    |  Meters  |\n",
    "| `slope`  |  Slope value    |  Degrees (°)  |\n",
    "| `pop_dens`  |  Population density value    |  Persons per km2  |\n",
    "| `max_temp`  |  Maximum temperature of the day    |  Degrees celsius (°C)  |\n",
    "| `avg_temp`  |  Average temperature of the day   |  Degrees celsius (°C)  |\n",
    "| `max_wind_vel`  |  Maximum wind velocity of the day    |  Meters per second (m/s)  |\n",
    "| `avg_wind_angle`  |  Average angle of the vector wind over the day    |  Degrees (°)  |\n",
    "| `avg_rel_hum`  |  Average relative humidity over the day    |  %  |\n",
    "| `avg_soil`  |  Average soil moisture of the day    |  m3/m3  |\n",
    "| `sum_prec`  |  Cumulative rainfall precipitation of the day    |  Millimeters (mm)  |\n",
    "| `yearly_avg_temp`  |  Average temperature over the year    |  Degrees celsius (°C)  |\n",
    "| `anom_{feature}`  |  Standardized anomaly of weather for the given day over the last 30 years. When the anomaly is positive, it means that the feature value is greater that the 30-year average    |  No unity |\n",
    "| `forest`  |  Sum of all the columns where the names start with `forest`   |  No unit  |\n",
    "| `vegetation_class`  |  Vegetation with the max occurrence in the vicinity of the ignition/non-ignition point    |  Without unit  |\n",
    "| `Year`  |  Year of ignition    |  Without unit  |\n",
    "| `max_max_temp`  |  Missing information    |  Missing information  |\n",
    "\n"
   ]
  },
  {
   "cell_type": "markdown",
   "id": "fb08f2a5",
   "metadata": {},
   "source": [
    "# Task\n",
    "\n",
    "\n",
    "🚨 **Your task is to design a classification algorithm to predict whether a point is an ignition point or not. The target column is `ignition`** 🚨\n",
    "\n",
    "You can import any package you want."
   ]
  },
  {
   "cell_type": "code",
   "execution_count": 9,
   "id": "c9cc54c6",
   "metadata": {},
   "outputs": [
    {
     "name": "stdout",
     "output_type": "stream",
     "text": [
      "Collecting scikit-learn\n",
      "  Downloading scikit_learn-1.5.1-cp310-cp310-macosx_12_0_arm64.whl (11.0 MB)\n",
      "\u001b[2K     \u001b[90m━━━━━━━━━━━━━━━━━━━━━━━━━━━━━━━━━━━━━━━━\u001b[0m \u001b[32m11.0/11.0 MB\u001b[0m \u001b[31m18.2 MB/s\u001b[0m eta \u001b[36m0:00:00\u001b[0ma \u001b[36m0:00:01\u001b[0m\n",
      "\u001b[?25hRequirement already satisfied: numpy>=1.19.5 in /Users/harishgunasekaran/mambaforge/lib/python3.10/site-packages (from scikit-learn) (1.25.2)\n",
      "Requirement already satisfied: scipy>=1.6.0 in /Users/harishgunasekaran/mambaforge/lib/python3.10/site-packages (from scikit-learn) (1.9.3)\n",
      "Collecting joblib>=1.2.0 (from scikit-learn)\n",
      "  Downloading joblib-1.4.2-py3-none-any.whl (301 kB)\n",
      "\u001b[2K     \u001b[90m━━━━━━━━━━━━━━━━━━━━━━━━━━━━━━━━━━━━━━\u001b[0m \u001b[32m301.8/301.8 kB\u001b[0m \u001b[31m13.9 MB/s\u001b[0m eta \u001b[36m0:00:00\u001b[0m\n",
      "\u001b[?25hCollecting threadpoolctl>=3.1.0 (from scikit-learn)\n",
      "  Downloading threadpoolctl-3.5.0-py3-none-any.whl (18 kB)\n",
      "Installing collected packages: threadpoolctl, joblib, scikit-learn\n",
      "Successfully installed joblib-1.4.2 scikit-learn-1.5.1 threadpoolctl-3.5.0\n"
     ]
    }
   ],
   "source": [
    "\"\"\"\n",
    "Created on Tue Aug 27 17:28:21 2024\n",
    "\n",
    "@author: harishgunasekaran\n",
    "\"\"\"\n",
    "\n",
    "!pip install -U scikit-learn"
   ]
  },
  {
   "cell_type": "code",
   "execution_count": 24,
   "id": "9f73ab23",
   "metadata": {},
   "outputs": [],
   "source": [
    "from sklearn.model_selection import train_test_split\n",
    "from sklearn.preprocessing import StandardScaler\n",
    "from sklearn.linear_model import LogisticRegression\n",
    "from sklearn.metrics import accuracy_score, classification_report, confusion_matrix\n",
    "\n",
    "\n",
    "df_original = df.copy()"
   ]
  },
  {
   "cell_type": "code",
   "execution_count": 27,
   "id": "f319dbb5",
   "metadata": {},
   "outputs": [
    {
     "name": "stdout",
     "output_type": "stream",
     "text": [
      "dropping missing values or nan\n",
      "\n",
      " converting the categorical values into numeric values\n",
      "['forest' 'wetland' 'herbaceous_vegetation' 'Forestt' 'shrubland' 'water'\n",
      " 'urban']\n"
     ]
    }
   ],
   "source": [
    "#%% 1. Data Preprocessing\n",
    "df = df.dropna() # drop rows with missing values\n",
    "print('dropping missing values or nan')\n",
    "\n",
    "# sci-kit works good for numerical values\n",
    "# convert categorical column to one-hot encoded columns\n",
    "original_categories = df['vegetation_class'].unique()\n",
    "print('\\n converting the categorical values into numeric values')\n",
    "print(original_categories)\n",
    "\n",
    "df = pd.get_dummies(df, columns=['vegetation_class'])\n",
    "df['vegetation_class'] = df_original['vegetation_class']  # Reassign original column if needed"
   ]
  },
  {
   "cell_type": "code",
   "execution_count": 28,
   "id": "f4ade833",
   "metadata": {},
   "outputs": [],
   "source": [
    "#%% 2. Feature Selection: Selecting relevant features (columns) for the classification task.\n",
    "X = df[['distance_powerlines', 'avg_rel_hum', 'avg_wind_angle','vegetation_class_forest', \n",
    "        'vegetation_class_Forestt', 'vegetation_class_wetland', 'vegetation_class_wetland',\n",
    "        'forest','max_max_temp', 'yearly_avg_temp']]\n",
    "\n",
    "y = df['ignition'] # target"
   ]
  },
  {
   "cell_type": "code",
   "execution_count": 29,
   "id": "83c1c14f",
   "metadata": {},
   "outputs": [],
   "source": [
    "#%% 3. Split the data for training and testing\n",
    "X_train, X_test, y_train, y_test = train_test_split(X, y, test_size=0.2, random_state=42)"
   ]
  },
  {
   "cell_type": "code",
   "execution_count": 30,
   "id": "897dfdbd",
   "metadata": {},
   "outputs": [],
   "source": [
    "#%% 4. Feature Scaling: \n",
    "### Standardize features by removing the mean and scaling to unit variance. \n",
    "scaler = StandardScaler()\n",
    "X_train = scaler.fit_transform(X_train)\n",
    "X_test = scaler.transform(X_test)"
   ]
  },
  {
   "cell_type": "code",
   "execution_count": 31,
   "id": "ce9e464f",
   "metadata": {},
   "outputs": [],
   "source": [
    "#%% 5. Model Selection and Training\n",
    "model = LogisticRegression()\n",
    "model.fit(X_train, y_train)\n",
    "\n",
    "# Making Predictions\n",
    "y_pred = model.predict(X_test)\n"
   ]
  },
  {
   "cell_type": "code",
   "execution_count": 32,
   "id": "b3d184bc",
   "metadata": {},
   "outputs": [
    {
     "name": "stdout",
     "output_type": "stream",
     "text": [
      "Accuracy: 0.8534738228514982\n",
      "              precision    recall  f1-score   support\n",
      "\n",
      "           0       0.87      0.97      0.92      2588\n",
      "           1       0.51      0.19      0.28       449\n",
      "\n",
      "    accuracy                           0.85      3037\n",
      "   macro avg       0.69      0.58      0.60      3037\n",
      "weighted avg       0.82      0.85      0.82      3037\n",
      "\n",
      "[[2505   83]\n",
      " [ 362   87]]\n"
     ]
    }
   ],
   "source": [
    "#%% 6. Evaluation\n",
    "accuracy = accuracy_score(y_test, y_pred)\n",
    "print(f'Accuracy: {accuracy}')\n",
    "print(classification_report(y_test, y_pred))\n",
    "print(confusion_matrix(y_test, y_pred))\n"
   ]
  },
  {
   "cell_type": "code",
   "execution_count": 33,
   "id": "4389ced8",
   "metadata": {},
   "outputs": [
    {
     "data": {
      "text/plain": [
       "['model_ignition.pkl']"
      ]
     },
     "execution_count": 33,
     "metadata": {},
     "output_type": "execute_result"
    }
   ],
   "source": [
    "#%% 7. Save the model\n",
    "joblib.dump(model, 'model_ignition.pkl')\n"
   ]
  }
 ],
 "metadata": {
  "kernelspec": {
   "display_name": "Python 3 (ipykernel)",
   "language": "python",
   "name": "python3"
  },
  "language_info": {
   "codemirror_mode": {
    "name": "ipython",
    "version": 3
   },
   "file_extension": ".py",
   "mimetype": "text/x-python",
   "name": "python",
   "nbconvert_exporter": "python",
   "pygments_lexer": "ipython3",
   "version": "3.10.12"
  }
 },
 "nbformat": 4,
 "nbformat_minor": 5
}
